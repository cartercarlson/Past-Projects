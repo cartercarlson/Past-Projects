{
 "cells": [
  {
   "cell_type": "markdown",
   "metadata": {},
   "source": [
    "## MovieLens Analysis\n",
    "### By: Carter Carlson"
   ]
  },
  {
   "cell_type": "code",
   "execution_count": 1,
   "metadata": {},
   "outputs": [],
   "source": [
    "import pandas as pd\n",
    "import numpy as np\n",
    "import warnings\n",
    "warnings.filterwarnings('ignore')\n",
    "\n",
    "movies = pd.read_csv('../Data/movies.csv')\n",
    "ratings = pd.read_csv('../Data/ratings.csv')"
   ]
  },
  {
   "cell_type": "markdown",
   "metadata": {},
   "source": [
    "### Optimizing table size"
   ]
  },
  {
   "cell_type": "code",
   "execution_count": 2,
   "metadata": {},
   "outputs": [
    {
     "name": "stdout",
     "output_type": "stream",
     "text": [
      "Ratings: original data\n",
      "\n",
      "<class 'pandas.core.frame.DataFrame'>\n",
      "RangeIndex: 20000263 entries, 0 to 20000262\n",
      "Data columns (total 4 columns):\n",
      "userId       int64\n",
      "movieId      int64\n",
      "rating       float64\n",
      "timestamp    int64\n",
      "dtypes: float64(1), int64(3)\n",
      "memory usage: 610.4 MB\n",
      "None\n",
      "\n",
      "\n",
      "Ratings: optimized data\n",
      "\n",
      "<class 'pandas.core.frame.DataFrame'>\n",
      "RangeIndex: 20000263 entries, 0 to 20000262\n",
      "Data columns (total 2 columns):\n",
      "rating     int8\n",
      "movieId    int32\n",
      "dtypes: int32(1), int8(1)\n",
      "memory usage: 95.4 MB\n",
      "None\n"
     ]
    }
   ],
   "source": [
    "# Original memory usage of dataset\n",
    "print('Ratings: original data\\n')\n",
    "print(ratings.info(memory_usage='deep'))\n",
    "\n",
    "## Convert ratings to a 1-10 scale and finish cleaning table\n",
    "ratings['rating'] *= 2\n",
    "ratings['rating'] = ratings['rating'].astype(np.int8)\n",
    "ratings['movieId'] = ratings['movieId'].astype(np.int32)\n",
    "ratings = ratings[['rating', 'movieId']]\n",
    "\n",
    "print('\\n\\nRatings: optimized data\\n')\n",
    "print(ratings.info(memory_usage='deep'))"
   ]
  },
  {
   "cell_type": "markdown",
   "metadata": {},
   "source": [
    "Our optimized dataset takes up 80% less memory!\n",
    "\n"
   ]
  },
  {
   "cell_type": "markdown",
   "metadata": {},
   "source": [
    "---\n",
    "\n",
    "\n",
    "### Dataset Cleaning"
   ]
  },
  {
   "cell_type": "code",
   "execution_count": 3,
   "metadata": {},
   "outputs": [],
   "source": [
    "# Removing movies that have no genre listed\n",
    "no_genre = movies.loc[movies['genres'] == '(no genres listed)']['movieId'].tolist()\n",
    "\n",
    "# Only taking movies that have 19 or 20\n",
    "year_in_title = [movies['movieId'][i]\n",
    "                 for i in range(len(movies))\n",
    "                 if not ('19' in movies['title'][i]\n",
    "                         or '20' in movies['title'][i])]\n",
    "\n",
    "movies_to_remove = no_genre + year_in_title\n",
    "\n",
    "ratings = ratings.loc[~ratings['movieId'].isin(movies_to_remove)].reset_index(drop=True)\n",
    "\n",
    "# Clean movies so that there are only movies that have a rating and genre\n",
    "movie_set = set(movies['movieId'])\n",
    "ratings_set = set(ratings['movieId'])\n",
    "missing_movies = list(movie_set - ratings_set)\n",
    "\n",
    "movies = movies.loc[~movies['movieId'].isin(missing_movies)].reset_index(drop=True)"
   ]
  },
  {
   "cell_type": "markdown",
   "metadata": {},
   "source": [
    "### Average and Median rating"
   ]
  },
  {
   "cell_type": "code",
   "execution_count": 4,
   "metadata": {},
   "outputs": [
    {
     "name": "stdout",
     "output_type": "stream",
     "text": [
      "Average movie rating:  6.27\n",
      "Median movie rating:   6.48\n"
     ]
    }
   ],
   "source": [
    "ratings_avg = ratings.groupby('movieId')[['movieId','rating']].mean().reset_index(drop=True)\n",
    "\n",
    "# Add average rating to movie\n",
    "ratings_dict = {ratings_avg['movieId'][i]:ratings_avg['rating'][i] for i in range(len(ratings_avg))}\n",
    "\n",
    "def find_movie_rating(movie):\n",
    "    return ratings_dict[movie]\n",
    "\n",
    "movies['average rating'] = list(map(find_movie_rating, movies['movieId']))\n",
    "\n",
    "# Sorting by average value\n",
    "movies.sort_values('average rating', inplace=True)\n",
    "movies = movies.reset_index(drop=True)\n",
    "\n",
    "\n",
    "print('Average movie rating:  {0:.2f}'.format(movies['average rating'].mean()))\n",
    "print('Median movie rating:   {0:.2f}'.format(movies['average rating'].median()))"
   ]
  },
  {
   "cell_type": "markdown",
   "metadata": {},
   "source": [
    "### Feature Engineering"
   ]
  },
  {
   "cell_type": "code",
   "execution_count": 5,
   "metadata": {},
   "outputs": [],
   "source": [
    "# Since our ratings are sorted, find how many records are in every 10%\n",
    "movies_10_pct = int(len(movies)/10)\n",
    "\n",
    "# Column of movie popularity\n",
    "movies['popularity'] = None\n",
    "bottom_20 = movies['popularity'].iloc[:movies_10_pct*2] = 1 # 'Worst'\n",
    "middle_20 = movies['popularity'].iloc[movies_10_pct*4:movies_10_pct*6] = 2 # 'OK'\n",
    "top_20 = movies['popularity'].iloc[movies_10_pct*8:] = 3 # 'Best'\n",
    "\n",
    "# Remove movies that are not in top, middle, or bottom 20%\n",
    "movies = movies.dropna().reset_index(drop=True)\n",
    "\n",
    "# Add year of movie\n",
    "movies['title'] = movies['title'].str.strip()\n",
    "def extract_year(title):\n",
    "    if title.find('(') < 0:\n",
    "        return int(title[:4])\n",
    "\n",
    "    return extract_year(title[title.find('(')+1:])\n",
    "\n",
    "# Column of movie age\n",
    "movies['year'] = [extract_year(movie) for movie in movies['title']]\n",
    "\n",
    "movies['age'] = None\n",
    "movies.loc[movies['year'] >= 1960, 'age'] = 1 # 'Old'\n",
    "movies.loc[movies['year'] >= 1970, 'age'] = 2 # 'Medium'\n",
    "movies.loc[movies['year'] >= 1990, 'age'] = 3 # 'New'\n",
    "\n",
    "movies = movies.dropna().reset_index(drop=True)\n",
    "\n",
    "# Make a column for each genre\n",
    "genre_groups = [movie.split('|') for movie in movies['genres']]\n",
    "genre_set = set()\n",
    "[[genre_set.add(genre) for genre in movie] for movie in genre_groups]\n",
    "genre_set = list(genre_set)\n",
    "\n",
    "df = pd.DataFrame(columns=[genre_set])\n",
    "\n",
    "df['average rating'] = movies['average rating']\n",
    "df['popularity'] = movies['popularity']\n",
    "df['age'] = movies['age']\n",
    "\n",
    "df.fillna(0, inplace=True)\n",
    "\n",
    "# populate dataframe\n",
    "for i in range(len(genre_groups)):\n",
    "    for genres in genre_groups[i]:\n",
    "        df.loc[i, genres] = 1"
   ]
  },
  {
   "cell_type": "markdown",
   "metadata": {},
   "source": [
    "### Machine Learning\n",
    "\n",
    "We will use three groups of data as predictors for popularity:\n",
    "1. Movie genres\n",
    "2. Movie age\n",
    "3. Movie genres & age\n",
    "\n",
    "And we will utilize three ML algorithms:\n",
    "1. Logistic Regression\n",
    "2. Bernoulli Naive Bayes\n",
    "3. Random Forest"
   ]
  },
  {
   "cell_type": "code",
   "execution_count": 6,
   "metadata": {},
   "outputs": [
    {
     "name": "stdout",
     "output_type": "stream",
     "text": [
      "Predicting movie popularity\n",
      "\n",
      "\n",
      "Input: Genres\n",
      "\n",
      "Logistic Regression  -  accuracy: 0.491\n",
      "Bernoulli Naive Bayes  -  accuracy: 0.487\n",
      "Random Forest  -  accuracy: 0.531\n",
      "\n",
      "\n",
      "Input: Age\n",
      "\n",
      "Logistic Regression  -  accuracy: 0.350\n",
      "Bernoulli Naive Bayes  -  accuracy: 0.345\n",
      "Random Forest  -  accuracy: 0.357\n",
      "\n",
      "\n",
      "Input: Genres and Age\n",
      "\n",
      "Logistic Regression  -  accuracy: 0.494\n",
      "Bernoulli Naive Bayes  -  accuracy: 0.487\n",
      "Random Forest  -  accuracy: 0.544\n"
     ]
    }
   ],
   "source": [
    "from sklearn.model_selection import GridSearchCV\n",
    "from sklearn.naive_bayes import BernoulliNB\n",
    "from sklearn.ensemble import RandomForestClassifier\n",
    "from sklearn.linear_model import LogisticRegression\n",
    "from sklearn.metrics import accuracy_score\n",
    "import math\n",
    "\n",
    "x1 = df[genre_set]\n",
    "x2 = pd.get_dummies(df['age'])\n",
    "x3 = pd.concat([x1, x2], axis=1)\n",
    "y = df['popularity']\n",
    "\n",
    "logr = LogisticRegression()\n",
    "bnb = BernoulliNB()\n",
    "tree = RandomForestClassifier()\n",
    "\n",
    "# Collection of parameters to test\n",
    "logr_param = {'tol': [math.exp(-5), math.exp(-4), math.exp(-3)]}\n",
    "\n",
    "bnb_param = {'alpha': [0.01, 0.5, 1, 2]}\n",
    "\n",
    "tree_param = {'n_estimators': [10, 100, 200],\n",
    "              'n_jobs': [-1],\n",
    "              'max_depth': [2, 5, 10]}\n",
    "\n",
    "# Determine the best parameters\n",
    "logr_best = GridSearchCV(estimator=logr, param_grid=logr_param, cv=5)\n",
    "bnb_best = GridSearchCV(estimator=bnb, param_grid=bnb_param, cv=5)\n",
    "tree_best = GridSearchCV(estimator=tree, param_grid=tree_param, cv=5)\n",
    "\n",
    "classifiers = [logr_best, bnb_best, tree_best]\n",
    "predictors = [x1, x2, x3]\n",
    "input_columns = ['Genres', 'Age', 'Genres and Age']\n",
    "classifier_name = ['Logistic Regression', 'Bernoulli Naive Bayes', 'Random Forest']\n",
    "\n",
    "print('Predicting movie popularity')\n",
    "for a in range(3):\n",
    "    print('\\n\\nInput: {}\\n'.format(input_columns[a]))\n",
    "    x = predictors[a]\n",
    "\n",
    "    for i in range(3):\n",
    "        classifier = classifiers[i]\n",
    "        classifier.fit(x, y)\n",
    "        y_pred = classifier.predict(x)\n",
    "        print('{}  -  accuracy: {:.3f}'.format(classifier_name[i], accuracy_score(y_pred, y)))"
   ]
  },
  {
   "cell_type": "markdown",
   "metadata": {},
   "source": [
    "### Interesting findings\n",
    "\n",
    "I originally expected movie age to be a strong predictor in movie rating.  My reasoning behind it was that the majority of old, low rated movies would fade into the background, and there wouldn't be many people watching the movie 10 years after to review it.  Similarly, the high-rated older movies should stand the test of time and continue to be viewed and positively rated years after the movie premiered.\n",
    "\n",
    "Now that I think about it, that may not necessarily be true.  An action movie released in 1980 may have been highly rated, but 15 years later the graphics, actors, and movie references will be outdated and lose some of their original appeal.  So, there are too many variables that come into consideration with movie age, which is why movie age is only slightly more accurate than randomly picking one of three ratings.\n",
    "\n",
    "When it comes to genres, every genre has its fair share of good and bad movies.  If there was a proven 'best' combination of genres, the other genres wouldn't exist.  An interesting trend to analyze would be movie genre popularity over time.  I can't exactly say how genre popularity has changed over the years (or if it hasn't changed), but I'm sure the right ML analysis will show surprising results, just like how it has with predicting movie popularity."
   ]
  }
 ],
 "metadata": {
  "kernelspec": {
   "display_name": "Python 3",
   "language": "python",
   "name": "python3"
  },
  "language_info": {
   "codemirror_mode": {
    "name": "ipython",
    "version": 3
   },
   "file_extension": ".py",
   "mimetype": "text/x-python",
   "name": "python",
   "nbconvert_exporter": "python",
   "pygments_lexer": "ipython3",
   "version": "3.6.5"
  }
 },
 "nbformat": 4,
 "nbformat_minor": 2
}
